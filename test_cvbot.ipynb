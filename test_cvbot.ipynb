{
  "nbformat": 4,
  "nbformat_minor": 0,
  "metadata": {
    "colab": {
      "name": "test_cvbot",
      "provenance": [],
      "collapsed_sections": [],
      "authorship_tag": "ABX9TyPO4pNvRvlJYh9YcoISNgYY",
      "include_colab_link": true
    },
    "kernelspec": {
      "name": "python3",
      "display_name": "Python 3"
    },
    "language_info": {
      "name": "python"
    },
    "accelerator": "GPU"
  },
  "cells": [
    {
      "cell_type": "markdown",
      "metadata": {
        "id": "view-in-github",
        "colab_type": "text"
      },
      "source": [
        "<a href=\"https://colab.research.google.com/github/Kiet-98/cvbot/blob/main/test_cvbot.ipynb\" target=\"_parent\"><img src=\"https://colab.research.google.com/assets/colab-badge.svg\" alt=\"Open In Colab\"/></a>"
      ]
    },
    {
      "cell_type": "code",
      "metadata": {
        "colab": {
          "base_uri": "https://localhost:8080/"
        },
        "id": "jaVakUxG5PJl",
        "outputId": "b5d82107-42e0-42a9-bcfb-90dac9f4ab27"
      },
      "source": [
        "# Step 1. Mount drive \n",
        "from google.colab import drive\n",
        "drive.mount('/content/gdrive')"
      ],
      "execution_count": null,
      "outputs": [
        {
          "output_type": "stream",
          "name": "stdout",
          "text": [
            "Mounted at /content/gdrive\n"
          ]
        }
      ]
    },
    {
      "cell_type": "code",
      "metadata": {
        "colab": {
          "base_uri": "https://localhost:8080/"
        },
        "id": "yIO45yua57lh",
        "outputId": "d8aaf201-7a38-4dc2-dfa1-74f3ef2d58c4"
      },
      "source": [
        "# Step 2. Tai ma nguon YOLO ve drive\n",
        "!rm -rf darknet\n",
        "%cd /content/gdrive/My\\ Drive\n",
        "!git clone https://github.com/AlexeyAB/darknet\n",
        "%cd /content/gdrive/My\\ Drive/darknet\n",
        "!rm -rf data\n",
        "!mkdir data"
      ],
      "execution_count": null,
      "outputs": [
        {
          "output_type": "stream",
          "name": "stdout",
          "text": [
            "/content/gdrive/My Drive\n",
            "Cloning into 'darknet'...\n",
            "remote: Enumerating objects: 15308, done.\u001b[K\n",
            "remote: Total 15308 (delta 0), reused 0 (delta 0), pack-reused 15308\u001b[K\n",
            "Receiving objects: 100% (15308/15308), 13.66 MiB | 5.52 MiB/s, done.\n",
            "Resolving deltas: 100% (10404/10404), done.\n",
            "Checking out files: 100% (2044/2044), done.\n",
            "/content/gdrive/My Drive/darknet\n"
          ]
        }
      ]
    },
    {
      "cell_type": "code",
      "metadata": {
        "id": "8xbQi9miDhOk"
      },
      "source": [
        "# Step 4. file data\n",
        "%cd /content/gdrive/My\\ Drive/darknet/data\n",
        "!unzip data.zip"
      ],
      "execution_count": null,
      "outputs": []
    },
    {
      "cell_type": "code",
      "metadata": {
        "colab": {
          "base_uri": "https://localhost:8080/"
        },
        "id": "55Y2ylTrFWZw",
        "outputId": "e097e660-6dae-4d9b-ee95-b37df2f039a0"
      },
      "source": [
        "# Step 5. Create file yolo.names\n",
        "%cd /content/gdrive/My\\ Drive/darknet\n",
        "!echo \"PET\" > yolo.names\n",
        "!echo \"HDPE\" >> yolo.names"
      ],
      "execution_count": null,
      "outputs": [
        {
          "output_type": "stream",
          "name": "stdout",
          "text": [
            "/content/gdrive/My Drive/darknet\n"
          ]
        }
      ]
    },
    {
      "cell_type": "code",
      "metadata": {
        "colab": {
          "base_uri": "https://localhost:8080/"
        },
        "id": "nss9E34DGJZf",
        "outputId": "090848b8-d0f2-4bdd-f045-54d2c44411b3"
      },
      "source": [
        "# Step 6. Create file train.txt and val.txt\n",
        "%cd /content/gdrive/My\\ Drive/darknet\n",
        "\n",
        "import glob2\n",
        "import math  \n",
        "import os\n",
        "import numpy as np\n",
        "\n",
        "files = []\n",
        "for ext in [\"*.png\", \"*.jpeg\", \"*.jpg\"]:\n",
        "  image_files = glob2.glob(os.path.join(\"data/data/\", ext))\n",
        "  files += image_files\n",
        "\n",
        "nb_val = math.floor(len(files)*0.2)\n",
        "rand_idx = np.random.randint(0, len(files), nb_val)\n",
        "\n",
        "# Tạo file train.txt\n",
        "with open(\"train.txt\", \"w\") as f:\n",
        "  for idx in np.arange(len(files)):\n",
        "    if (os.path.exists(files[idx][:-3] + \"txt\")):\n",
        "      f.write(files[idx]+'\\n')\n",
        "\n",
        "# Tạo file vali.txt\n",
        "with open(\"val.txt\", \"w\") as f:\n",
        "  for idx in np.arange(len(files)):\n",
        "    if (idx in rand_idx) and (os.path.exists(files[idx][:-3] + \"txt\")):\n",
        "      f.write(files[idx]+'\\n')"
      ],
      "execution_count": null,
      "outputs": [
        {
          "output_type": "stream",
          "name": "stdout",
          "text": [
            "/content/gdrive/My Drive/darknet\n"
          ]
        }
      ]
    },
    {
      "cell_type": "code",
      "metadata": {
        "colab": {
          "base_uri": "https://localhost:8080/"
        },
        "id": "UTRCPumrHGoW",
        "outputId": "8d8d732a-3210-465b-9f12-452139e2f2fa"
      },
      "source": [
        "# Step 7. Create file yolo.data\n",
        "%cd /content/gdrive/My\\ Drive/darknet\n",
        "!mkdir backup\n",
        "!echo classes=2 > yolo.data\n",
        "!echo train=train.txt >> yolo.data\n",
        "!echo valid=val.txt >> yolo.data\n",
        "!echo names=yolo.names >> yolo.data\n",
        "!echo backup=backup >> yolo.data"
      ],
      "execution_count": null,
      "outputs": [
        {
          "output_type": "stream",
          "name": "stdout",
          "text": [
            "/content/gdrive/My Drive/darknet\n"
          ]
        }
      ]
    },
    {
      "cell_type": "code",
      "metadata": {
        "id": "EU22PtgBHmhV"
      },
      "source": [
        "# Step 8. Make darknet\n",
        "%cd /content/gdrive/My\\ Drive/darknet\n",
        "!rm darknet\n",
        "!make"
      ],
      "execution_count": null,
      "outputs": []
    },
    {
      "cell_type": "code",
      "metadata": {
        "id": "2qEqsZLGt2ac"
      },
      "source": [
        "# Step 9. Download pretrain weight\n",
        "%cd /content/gdrive/My\\ Drive/darknet\n",
        "!wget https://github.com/AlexeyAB/darknet/releases/download/darknet_yolo_v3_optimal/yolov4.conv.137"
      ],
      "execution_count": null,
      "outputs": []
    },
    {
      "cell_type": "code",
      "metadata": {
        "id": "Fw_Pmgn_KSua",
        "colab": {
          "base_uri": "https://localhost:8080/"
        },
        "outputId": "156bfa20-3754-4e48-db49-14adb3e313e4"
      },
      "source": [
        "# Step 10. Train\n",
        "%cd /content/gdrive/My\\ Drive/darknet\n",
        "!./darknet detector train yolo.data cfg/yolov4-custom.cfg yolov4.conv.137 -dont_show "
      ],
      "execution_count": null,
      "outputs": [
        {
          "output_type": "stream",
          "name": "stdout",
          "text": [
            "[Errno 2] No such file or directory: '/content/gdrive/My Drive/darknet'\n",
            "/content\n",
            "/bin/bash: ./darknet: No such file or directory\n"
          ]
        }
      ]
    }
  ]
}